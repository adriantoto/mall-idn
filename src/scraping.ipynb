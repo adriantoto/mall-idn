{
 "cells": [
  {
   "cell_type": "markdown",
   "metadata": {},
   "source": [
    "# Import Libraries"
   ]
  },
  {
   "cell_type": "code",
   "execution_count": 1,
   "metadata": {},
   "outputs": [],
   "source": [
    "from selenium import webdriver\n",
    "from selenium.webdriver.common.by import By\n",
    "import pandas as pd"
   ]
  },
  {
   "cell_type": "markdown",
   "metadata": {},
   "source": [
    "# Scraping All Mall's Name"
   ]
  },
  {
   "cell_type": "code",
   "execution_count": 2,
   "metadata": {},
   "outputs": [],
   "source": [
    "url = \"https://en.wikipedia.org/wiki/List_of_shopping_malls_in_Jakarta\"\n",
    "\n",
    "driver = webdriver.Firefox()\n",
    "driver.get(url)\n",
    "\n",
    "all_malls = []\n",
    "\n",
    "for i in range(2,12):\n",
    "    for items in driver.find_elements(By.XPATH, '//*[@id=\"mw-content-text\"]/div[1]/div[{}]/ul'.format(i)):\n",
    "        for item in items.find_elements(By.TAG_NAME, 'li'):\n",
    "            all_malls.append(item.text)\n",
    "\n",
    "\n",
    "for i in range(1,4):\n",
    "    for items in driver.find_elements(By.XPATH, '//*[@id=\"mw-content-text\"]/div[1]/ul[{}]'.format(i)):\n",
    "        for item in items.find_elements(By.TAG_NAME, 'li'):\n",
    "            all_malls.append(item.text)\n",
    "            \n",
    "driver.quit()\n",
    "\n",
    "all_malls = list(dict.fromkeys(all_malls))"
   ]
  },
  {
   "cell_type": "code",
   "execution_count": null,
   "metadata": {},
   "outputs": [],
   "source": [
    "for i"
   ]
  }
 ],
 "metadata": {
  "interpreter": {
   "hash": "02c109dad2a37ec68b3a1514a536ab1b40e8ced9535a3d3e85127d713b8afb08"
  },
  "kernelspec": {
   "display_name": "Python 3.8.10 64-bit ('venv': venv)",
   "language": "python",
   "name": "python3"
  },
  "language_info": {
   "codemirror_mode": {
    "name": "ipython",
    "version": 3
   },
   "file_extension": ".py",
   "mimetype": "text/x-python",
   "name": "python",
   "nbconvert_exporter": "python",
   "pygments_lexer": "ipython3",
   "version": "3.8.10"
  },
  "orig_nbformat": 4
 },
 "nbformat": 4,
 "nbformat_minor": 2
}
